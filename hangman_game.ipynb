{
  "nbformat": 4,
  "nbformat_minor": 0,
  "metadata": {
    "colab": {
      "name": "hangman_game.ipynb",
      "provenance": [],
      "authorship_tag": "ABX9TyMYfN6yN0l0bCHtT4CjYUmS",
      "include_colab_link": true
    },
    "kernelspec": {
      "name": "python3",
      "display_name": "Python 3"
    },
    "language_info": {
      "name": "python"
    }
  },
  "cells": [
    {
      "cell_type": "markdown",
      "metadata": {
        "id": "view-in-github",
        "colab_type": "text"
      },
      "source": [
        "<a href=\"https://colab.research.google.com/github/harmith-singh/Hangman-game/blob/main/hangman_game.ipynb\" target=\"_parent\"><img src=\"https://colab.research.google.com/assets/colab-badge.svg\" alt=\"Open In Colab\"/></a>"
      ]
    },
    {
      "cell_type": "markdown",
      "source": [
        "**Hangman Wiki**\n",
        "\n",
        "\n",
        "The origins of Hangman are obscure meaning not discovered, but it seems to have arisen in Victorian times, ” says Tony Augarde, author of The Oxford Guide to Word Games. The game is mentioned in Alice Bertha Gomme’s “Traditional Games” in 1894 under the name “Birds, Beasts and Fishes.” The rules are simple; a player writes down the first and last letters of a word and another player guesses the letters in between. In other sources, the game is called “Gallows”, “The Game of Hangin”, or “Hanger”. "
      ],
      "metadata": {
        "id": "xNrannt_iKOZ"
      }
    },
    {
      "cell_type": "markdown",
      "source": [
        "**Implementation**\n",
        "\n",
        "This is a simple Hangman game using Python programming language. It can be used to test programming skills and understanding logic. \n",
        " \n",
        "\n",
        "The Hangman program randomly selects a secret word from a list of secret words. The random module will provide this ability, so line 1 in program imports it.\n",
        "The Game: Here, a random word (a fruit name) is picked up from our collection and the player gets limited chances to win the game.\n",
        "When a letter in that word is guessed correctly, that letter position in the word is made visible. In this way, all letters of the word are to be guessed before all the chances are over. \n",
        "For convenience, we have given length of word + 2 chances. For example, word to be guessed is mango, then user gets 5 + 2 = 7 chances, as mango is a five letter word."
      ],
      "metadata": {
        "id": "qaGGPLFdiPCt"
      }
    },
    {
      "cell_type": "markdown",
      "source": [
        "#My try:"
      ],
      "metadata": {
        "id": "s5IQEBgNCLH-"
      }
    },
    {
      "cell_type": "code",
      "execution_count": 26,
      "metadata": {
        "colab": {
          "base_uri": "https://localhost:8080/"
        },
        "id": "6AgGOXvzhwUP",
        "outputId": "52cd354e-87c5-4495-da3d-23abea06ea98"
      },
      "outputs": [
        {
          "output_type": "stream",
          "name": "stdout",
          "text": [
            "You have 7 chances to guess the word:  _  _  _  _  _ .\n",
            "\n",
            "Enter a letter: j\n",
            "You have 6 chances left.\n",
            " _  _  _  _  _ \n",
            "Enter a letter: a\n",
            "You have 5 chances left.\n",
            " _  _  _  _  _ \n",
            "Enter a letter: i\n",
            "You have 4 chances left.\n",
            " _  _  _  _  _ \n",
            "Enter a letter: e\n",
            " _ E _  _  _ \n",
            "Enter a letter: e\n",
            " _ E _  _  _ \n",
            "Enter a letter: m\n",
            " _ EM _  _ \n",
            "Enter a letter: o\n",
            " _ EMO _ \n",
            "Enter a letter: re\n",
            "You have 3 chances left.\n",
            " _ EMO _ \n",
            "Enter a letter: q\n",
            "You have 2 chances left.\n",
            " _ EMO _ \n",
            "Enter a letter: n\n",
            " _ EMON\n",
            "Enter a letter: p\n",
            "You have 1 chances left.\n",
            " _ EMON\n",
            "Enter a letter: l\n",
            "LEMON\n",
            "\n",
            "Wow! You guessed the word LEMON correctly.\n"
          ]
        }
      ],
      "source": [
        "import random\n",
        "\n",
        "word_list = '''apple banana mango strawberry\n",
        "            orange grape pineapple apricot lemon coconut watermelon\n",
        "            cherry papaya berry peach lychee muskmelon'''.split(' ')\n",
        "\n",
        "obj_word = random.choice(word_list).upper()\n",
        "chances = len(obj_word)+2\n",
        "#print(obj_word)\n",
        "\n",
        "print('You have {} chances to guess the word: {}.\\n'.format(chances, ' _ '*len(obj_word)))\n",
        "\n",
        "#defining a function to mask the word\n",
        "def mask(word):\n",
        "  for i in alphabet_list:\n",
        "    word = word.replace(i, ' _ ')\n",
        "  return word\n",
        "\n",
        "\n",
        "alphabet_list = list('abcdefghijklmnopqrstuvwxyz'.upper())\n",
        "\n",
        "#starting the loop\n",
        "chances_left = chances\n",
        "while chances_left > 0:\n",
        "  guess = input('Enter a letter: ').upper()\n",
        "  #if the player enters a correct letter\n",
        "  if (guess in  list(obj_word)) & (guess in alphabet_list):\n",
        "    alphabet_list.remove(guess)\n",
        "  #this loop just runs when the letter is correct but has already been entered. here chances_left are not reduced\n",
        "  elif guess in  list(obj_word):\n",
        "    pass\n",
        "  #if the player enters an incorrect letter\n",
        "  else:\n",
        "    print('You have {} chances left.'.format(chances_left-1))\n",
        "    chances_left -= 1\n",
        "\n",
        "  print(mask(obj_word))\n",
        "\n",
        "  if mask(obj_word) == obj_word:\n",
        "    print('\\nWow! You guessed the word {} correctly.'.format(obj_word))\n",
        "    break\n",
        "\n",
        "if mask(obj_word) != obj_word:\n",
        "  print('\\nSorry! You failed to guess the word {}.'.format(obj_word))"
      ]
    },
    {
      "cell_type": "markdown",
      "source": [
        "#Official solution:"
      ],
      "metadata": {
        "id": "K0l--EraCfbt"
      }
    },
    {
      "cell_type": "code",
      "source": [
        "# Python Program to illustrate\n",
        "# Hangman Game\n",
        "import random\n",
        "from collections import Counter\n",
        " \n",
        "someWords = '''apple banana mango strawberry\n",
        "orange grape pineapple apricot lemon coconut watermelon\n",
        "cherry papaya berry peach lychee muskmelon'''\n",
        " \n",
        "someWords = someWords.split(' ')\n",
        "# randomly choose a secret word from our \"someWords\" LIST.\n",
        "word = random.choice(someWords)        \n",
        " \n",
        "if __name__ == '__main__':\n",
        "    print('Guess the word! HINT: word is a name of a fruit')\n",
        "     \n",
        "    for i in word:\n",
        "         # For printing the empty spaces for letters of the word\n",
        "        print('_', end = ' ')       \n",
        "    print()\n",
        " \n",
        "    playing = True\n",
        "     # list for storing the letters guessed by the player\n",
        "    letterGuessed = ''               \n",
        "    chances = len(word) + 2\n",
        "    correct = 0\n",
        "    flag = 0\n",
        "    try:\n",
        "        while (chances != 0) and flag == 0: #flag is updated when the word is correctly guessed\n",
        "            print()\n",
        "            chances -= 1\n",
        " \n",
        "            try:\n",
        "                guess = str(input('Enter a letter to guess: '))\n",
        "            except:\n",
        "                print('Enter only a letter!')\n",
        "                continue\n",
        " \n",
        "            # Validation of the guess\n",
        "            if not guess.isalpha():\n",
        "                print('Enter only a LETTER')\n",
        "                continue\n",
        "            elif len(guess) > 1:\n",
        "                print('Enter only a SINGLE letter')\n",
        "                continue\n",
        "            elif guess in letterGuessed:\n",
        "                print('You have already guessed that letter')\n",
        "                continue\n",
        " \n",
        " \n",
        "            # If letter is guessed correctly\n",
        "            if guess in word:\n",
        "                k = word.count(guess) #k stores the number of times the guessed letter occurs in the word\n",
        "                for _ in range(k):   \n",
        "                    letterGuessed += guess # The guess letter is added as many times as it occurs\n",
        " \n",
        "            # Print the word\n",
        "            for char in word:\n",
        "                if char in letterGuessed and (Counter(letterGuessed) != Counter(word)):\n",
        "                    print(char, end = ' ')\n",
        "                    correct += 1\n",
        "                # If user has guessed all the letters\n",
        "                elif (Counter(letterGuessed) == Counter(word)): # Once the correct word is guessed fully,\n",
        "                                                                # the game ends, even if chances remain\n",
        "                    print(\"The word is: \", end=' ')\n",
        "                    print(word)\n",
        "                    flag = 1\n",
        "                    print('Congratulations, You won!')\n",
        "                    break # To break out of the for loop\n",
        "                    break # To break out of the while loop\n",
        "                else:\n",
        "                    print('_', end = ' ')\n",
        " \n",
        "             \n",
        " \n",
        "        # If user has used all of his chances\n",
        "        if chances <= 0 and (Counter(letterGuessed) != Counter(word)):\n",
        "            print()\n",
        "            print('You lost! Try again..')\n",
        "            print('The word was {}'.format(word))\n",
        " \n",
        "    except KeyboardInterrupt:\n",
        "        print()\n",
        "        print('Bye! Try again.')\n",
        "        exit()"
      ],
      "metadata": {
        "colab": {
          "base_uri": "https://localhost:8080/"
        },
        "id": "JIJuzUSAChQ9",
        "outputId": "96a52582-1e6d-4a8f-955f-c6fe1514a622"
      },
      "execution_count": 24,
      "outputs": [
        {
          "output_type": "stream",
          "name": "stdout",
          "text": [
            "Guess the word! HINT: word is a name of a fruit\n",
            "_ _ _ _ _ _ _ \n",
            "\n",
            "Enter only a letter!\n",
            "\n",
            "Enter only a letter!\n",
            "\n",
            "Enter only a letter!\n",
            "\n",
            "Enter a letter to guess: r\n",
            "_ _ _ _ _ _ _ \n",
            "Enter a letter to guess: r\n",
            "_ _ _ _ _ _ _ \n",
            "Enter a letter to guess: r\n",
            "Enter a letter to guess: \n",
            "_ _ _ _ _ _ _ \n",
            "Enter only a LETTER\n",
            "\n",
            "Enter a letter to guess: \n",
            "Enter only a LETTER\n",
            "\n",
            "Enter a letter to guess: hh\n",
            "Enter only a SINGLE letter\n",
            "\n",
            "You lost! Try again..\n",
            "The word was coconut\n"
          ]
        }
      ]
    },
    {
      "cell_type": "markdown",
      "source": [
        "#My refined try:\n"
      ],
      "metadata": {
        "id": "C40qX9f8EBy1"
      }
    },
    {
      "cell_type": "markdown",
      "source": [
        "Note:\n",
        "\n",
        "My original try is far better than Official Solution in terms of gameplay and feel\n",
        "\n",
        "Introducing Data Validation in my try does not give any added benifit, as inputting wrong/empty strings will only give the player a disadvantage"
      ],
      "metadata": {
        "id": "IxADiIvDEEZ9"
      }
    }
  ]
}